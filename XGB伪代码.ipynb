{
 "cells": [
  {
   "cell_type": "code",
   "execution_count": null,
   "metadata": {},
   "outputs": [],
   "source": []
  },
  {
   "cell_type": "code",
   "execution_count": null,
   "metadata": {},
   "outputs": [],
   "source": [
    "import xgboost as xgb\n",
    "rom sklearn.metrics import accuracy_score"
   ]
  },
  {
   "cell_type": "code",
   "execution_count": null,
   "metadata": {},
   "outputs": [],
   "source": [
    "#准备数据\n",
    "my_workpath = ‘./data/’\n",
    "dtrain = xgb.DMatrix(my_workpath +'agaricus.txt.train')\n",
    "dtest = xgb.DMatrix(my_workpath +'agaricus.txt.test')"
   ]
  },
  {
   "cell_type": "code",
   "execution_count": null,
   "metadata": {},
   "outputs": [],
   "source": [
    "• XGBoost加载的数据存储在对象Dmatrix中，做了\n",
    "存储效率和运行速度的优化\n",
    "• 支持三种接口\n",
    "– libsvm txt格式文件\n",
    "– 常规矩阵（ numpy 2D array ）\n",
    "– xgboost binary buffer file"
   ]
  },
  {
   "cell_type": "code",
   "execution_count": null,
   "metadata": {},
   "outputs": [],
   "source": [
    "设置训练参数\n",
    "• # specify parameters via map\n",
    "• param = {'max_depth':2, 'eta':1, 'silent':0, 'objective':'binary:logistic' }\n",
    "• max_depth： 树的最大深度。缺省值为6，取值范围为：[1,∞]\n",
    "• eta：为了防止过拟合，更新过程中用到的收缩步长。 eta通过缩减特征\n",
    "的权重使提升计算过程更加保守。缺省值为0.3，取值范围为：[0,1]\n",
    "• silent: 0表示打印出运行时信息，取1时表示以缄默方式运行，不打印\n",
    "运行时信息。缺省值为0\n",
    "• objective： 定义学习任务及相应的学习目标，“binary:logistic” 表示\n",
    "二分类的逻辑回归问题，输出为概率。"
   ]
  },
  {
   "cell_type": "code",
   "execution_count": 1,
   "metadata": {},
   "outputs": [
    {
     "ename": "SyntaxError",
     "evalue": "invalid character in identifier (<ipython-input-1-73253679f799>, line 2)",
     "output_type": "error",
     "traceback": [
      "\u001b[1;36m  File \u001b[1;32m\"<ipython-input-1-73253679f799>\"\u001b[1;36m, line \u001b[1;32m2\u001b[0m\n\u001b[1;33m    • # 设置boosting迭代计算次数\u001b[0m\n\u001b[1;37m    ^\u001b[0m\n\u001b[1;31mSyntaxError\u001b[0m\u001b[1;31m:\u001b[0m invalid character in identifier\n"
     ]
    }
   ],
   "source": [
    "模型训练\n",
    "• # 设置boosting迭代计算次数\n",
    "• num_round = 2\n",
    "• bst = xgb.train(param, dtrain, num_round)"
   ]
  },
  {
   "cell_type": "code",
   "execution_count": null,
   "metadata": {},
   "outputs": [],
   "source": [
    "预测（训练数据上评估）\n",
    "• 模型训练好后，可以用训练好的模型对进行预测\n",
    "– XGBoost预测的输出是概率，输出值是样本为第一类的概率 à 将概率值转换\n",
    "为0或1\n",
    "• # make prediction\n",
    "• train_preds = bst.predict(dtrain)\n",
    "• train_predictions = [ round(value) for value in train_preds ]\n",
    "• y_train = dtrain.get_label()\n",
    "• train_accuracy = accuracy_score(y_train, train_predictions)\n",
    "• print (\"Train Accuary: %.2f%%\" % (train_accuracy * 100.0))"
   ]
  },
  {
   "cell_type": "code",
   "execution_count": null,
   "metadata": {},
   "outputs": [],
   "source": [
    "预测\n",
    "• 模型训练好后，可以用训练好的模型对测试数据进行\n",
    "预测\n",
    "• # make prediction\n",
    "• preds = bst.predict(dtest)\n",
    "• predictions = [round(value) for value in preds]\n",
    "• y_test = dtest.get_label()\n",
    "• test_accuracy = accuracy_score(y_test, predictions)\n",
    "• print(\"Test Accuracy: %.2f%%\" % (test_accuracy * 100.0))"
   ]
  },
  {
   "cell_type": "code",
   "execution_count": null,
   "metadata": {},
   "outputs": [],
   "source": [
    "模型可视化\n",
    "• 可视化模型中的单颗树：调用XGBoost 的API plot_tree()／\n",
    "to_graphviz()\n",
    "–\n",
    "• from xgboost import plot_tree\n",
    "• xgb.plot_tree(bst, num_trees=0, rankdir= 'LR' )\n",
    "–第一个参数为训练好的模型\n",
    "– 第二个参数为要打印的树的索引（从0开始）\n",
    "– 第三个参数是打印的格式"
   ]
  },
  {
   "cell_type": "markdown",
   "metadata": {},
   "source": []
  },
  {
   "cell_type": "markdown",
   "metadata": {},
   "source": []
  }
 ],
 "metadata": {
  "kernelspec": {
   "display_name": "Python 3",
   "language": "python",
   "name": "python3"
  },
  "language_info": {
   "codemirror_mode": {
    "name": "ipython",
    "version": 3
   },
   "file_extension": ".py",
   "mimetype": "text/x-python",
   "name": "python",
   "nbconvert_exporter": "python",
   "pygments_lexer": "ipython3",
   "version": "3.6.7"
  }
 },
 "nbformat": 4,
 "nbformat_minor": 2
}
